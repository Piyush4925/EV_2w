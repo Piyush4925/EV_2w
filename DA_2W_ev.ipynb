{
  "nbformat": 4,
  "nbformat_minor": 0,
  "metadata": {
    "colab": {
      "provenance": []
    },
    "kernelspec": {
      "name": "python3",
      "display_name": "Python 3"
    },
    "language_info": {
      "name": "python"
    }
  },
  "cells": [
    {
      "cell_type": "markdown",
      "source": [
        "# Data Collection"
      ],
      "metadata": {
        "id": "P-anicNYq4Vq"
      }
    },
    {
      "cell_type": "code",
      "source": [
        "import pandas as pd"
      ],
      "metadata": {
        "id": "vELGkgPItd6y"
      },
      "execution_count": 1,
      "outputs": []
    },
    {
      "cell_type": "code",
      "source": [
        "from bs4 import BeautifulSoup\n",
        "import requests"
      ],
      "metadata": {
        "id": "jlpZv0T1tlXT"
      },
      "execution_count": 2,
      "outputs": []
    },
    {
      "cell_type": "code",
      "source": [
        "\"\"\"url =\"https://www.smev.in/fy-23-24\"\n",
        "r=requests.get(url)\n",
        "print(r)\"\"\""
      ],
      "metadata": {
        "id": "BP9Wgn5UttIW"
      },
      "execution_count": null,
      "outputs": []
    },
    {
      "cell_type": "markdown",
      "source": [
        "Data manually collected from 1>https://www.smev.in/fy-22-23\n",
        "                             2>https://www.smev.in/fy-23-24\n",
        "formed a table and converted into csv\n"
      ],
      "metadata": {
        "id": "ClCBh7K-6AUA"
      }
    },
    {
      "cell_type": "code",
      "source": [
        "df_22_23 = pd.read_csv('/content/drive/MyDrive/ev/ev_data_22_23.csv')\n",
        "df_23_24 = pd.read_csv('/content/drive/MyDrive/ev/ev_data_23_24.csv')"
      ],
      "metadata": {
        "id": "Oh0hXqFSuFql"
      },
      "execution_count": 8,
      "outputs": []
    },
    {
      "cell_type": "code",
      "source": [
        "#first 5 rows of each DataFrame\n",
        "print(\"FY 22-23 Data:\")\n",
        "print(df_22_23.head().to_markdown(index=False, numalign=\"left\", stralign=\"left\"))\n",
        "\n",
        "print(\"\\nFY 23-24 Data:\")\n",
        "print(df_23_24.head().to_markdown(index=False, numalign=\"left\", stralign=\"left\"))\n"
      ],
      "metadata": {
        "colab": {
          "base_uri": "https://localhost:8080/"
        },
        "id": "djsZKzq5eCBh",
        "outputId": "d47634c0-c684-462a-8b61-ebf40929f3ca"
      },
      "execution_count": 9,
      "outputs": [
        {
          "output_type": "stream",
          "name": "stdout",
          "text": [
            "FY 22-23 Data:\n",
            "| Serial_no   | Maker         | April   | May   | June   | July   | August   | September   | October   | November   | December   | January   | February   | March   | Total    | Market_share   |\n",
            "|:------------|:--------------|:--------|:------|:-------|:-------|:---------|:------------|:----------|:-----------|:-----------|:----------|:-----------|:--------|:---------|:---------------|\n",
            "| 1           | OLA ELECTRIC  | 12,709  | 9,268 | 5,898  | 3,865  | 3,476    | 9,898       | 16,357    | 16,385     | 17,371     | 18,353    | 17,772     | 21,427  | 1,52,779 | 21%            |\n",
            "| 2           | OKINAWA       | 11,343  | 9,650 | 7,221  | 8,396  | 8,758    | 8,499       | 14,953    | 9,070      | 5,282      | 4,408     | 3,849      | 4,510   | 95,939   | 13%            |\n",
            "| 3           | HERO ELECTRIC | 6,804   | 2,971 | 6,837  | 9,306  | 10,820   | 8,210       | 8,870     | 9,028      | 8,102      | 6,400     | 5,864      | 6,662   | 89,874   | 12%            |\n",
            "| 4           | AMPERE        | 6,865   | 6,177 | 6,920  | 6,813  | 6,772    | 6,489       | 10,115    | 12,449     | 4,593      | 4,457     | 6,004      | 9,738   | 87,392   | 12%            |\n",
            "| 5           | TVS           | 1,498   | 478   | 1,983  | 4,349  | 6,427    | 4,002       | 5,821     | 8,149      | 9,365      | 10,464    | 12,674     | 16,899  | 82,109   | 11%            |\n",
            "\n",
            "FY 23-24 Data:\n",
            "| Serial_no   | Maker        | April   | May   | June   | July   | August   | September   | October   | November   | December   | January   | February   | March   | Total   | Market_share   | Unnamed: 16   | Unnamed: 17   | Unnamed: 18   | Unnamed: 19   | Unnamed: 20   |\n",
            "|:------------|:-------------|:--------|:------|:-------|:-------|:---------|:------------|:----------|:-----------|:-----------|:----------|:-----------|:--------|:--------|:---------------|:--------------|:--------------|:--------------|:--------------|:--------------|\n",
            "| 1           | OLA ELECTRIC | 22068   | 28743 | 17689  | 19405  | 18745    | 18707       | 23867     | 30004      | 30398      | 32349     | 33923      | 50545   | 326443  | 35%            | nan           | nan           | nan           | nan           | nan           |\n",
            "| 2           | TVS          | 8760    | 20435 | 7867   | 10398  | 15484    | 15614       | 16509     | 19146      | 12320      | 15339     | 14608      | 26479   | 182959  | 19%            | nan           | nan           | nan           | nan           | nan           |\n",
            "| 3           | ATHER        | 7802    | 15430 | 4603   | 6685   | 7152     | 7194        | 8478      | 9333       | 6550       | 9357      | 9067       | 17221   | 108872  | 12%            | nan           | nan           | nan           | nan           | nan           |\n",
            "| 4           | BAJAJ        | 4093    | 10098 | 3011   | 4131   | 6588     | 7105        | 9070      | 11913      | 10418      | 10885     | 11745      | 17933   | 106990  | 11%            | nan           | nan           | nan           | nan           | nan           |\n",
            "| 5           | AMPERE       | 8875    | 10790 | 3043   | 3573   | 3699     | 4199        | 4542      | 4695       | 3350       | 2536      | 2609       | 3146    | 55057   | 6%             | nan           | nan           | nan           | nan           | nan           |\n"
          ]
        }
      ]
    },
    {
      "cell_type": "code",
      "source": [
        "#columns in each DataFrame\n",
        "print(\"\\nFY 22-23 Data Information:\")\n",
        "print(df_22_23.info())\n",
        "\n",
        "print(\"\\nFY 23-24 Data Information:\")\n",
        "print(df_23_24.info())"
      ],
      "metadata": {
        "colab": {
          "base_uri": "https://localhost:8080/"
        },
        "id": "nEFGn_Qtf1fP",
        "outputId": "065940aa-97c8-4a78-d90b-0d6aa007ada4"
      },
      "execution_count": 10,
      "outputs": [
        {
          "output_type": "stream",
          "name": "stdout",
          "text": [
            "\n",
            "FY 22-23 Data Information:\n",
            "<class 'pandas.core.frame.DataFrame'>\n",
            "RangeIndex: 14 entries, 0 to 13\n",
            "Data columns (total 16 columns):\n",
            " #   Column        Non-Null Count  Dtype  \n",
            "---  ------        --------------  -----  \n",
            " 0   Serial_no     13 non-null     float64\n",
            " 1   Maker         14 non-null     object \n",
            " 2   April         14 non-null     object \n",
            " 3   May           14 non-null     object \n",
            " 4   June          14 non-null     object \n",
            " 5   July          14 non-null     object \n",
            " 6   August        14 non-null     object \n",
            " 7   September     14 non-null     object \n",
            " 8   October       14 non-null     object \n",
            " 9   November      14 non-null     object \n",
            " 10  December      14 non-null     object \n",
            " 11  January       14 non-null     object \n",
            " 12  February      14 non-null     object \n",
            " 13  March         14 non-null     object \n",
            " 14  Total         14 non-null     object \n",
            " 15  Market_share  13 non-null     object \n",
            "dtypes: float64(1), object(15)\n",
            "memory usage: 1.9+ KB\n",
            "None\n",
            "\n",
            "FY 23-24 Data Information:\n",
            "<class 'pandas.core.frame.DataFrame'>\n",
            "RangeIndex: 14 entries, 0 to 13\n",
            "Data columns (total 21 columns):\n",
            " #   Column        Non-Null Count  Dtype  \n",
            "---  ------        --------------  -----  \n",
            " 0   Serial_no     13 non-null     float64\n",
            " 1   Maker         14 non-null     object \n",
            " 2   April         14 non-null     int64  \n",
            " 3   May           14 non-null     int64  \n",
            " 4   June          14 non-null     int64  \n",
            " 5   July          14 non-null     int64  \n",
            " 6   August        14 non-null     int64  \n",
            " 7   September     14 non-null     int64  \n",
            " 8   October       14 non-null     int64  \n",
            " 9   November      14 non-null     int64  \n",
            " 10  December      14 non-null     int64  \n",
            " 11  January       14 non-null     int64  \n",
            " 12  February      14 non-null     int64  \n",
            " 13  March         14 non-null     int64  \n",
            " 14  Total         14 non-null     int64  \n",
            " 15  Market_share  13 non-null     object \n",
            " 16  Unnamed: 16   0 non-null      float64\n",
            " 17  Unnamed: 17   0 non-null      float64\n",
            " 18  Unnamed: 18   0 non-null      float64\n",
            " 19  Unnamed: 19   0 non-null      float64\n",
            " 20  Unnamed: 20   0 non-null      float64\n",
            "dtypes: float64(6), int64(13), object(2)\n",
            "memory usage: 2.4+ KB\n",
            "None\n"
          ]
        }
      ]
    },
    {
      "cell_type": "markdown",
      "source": [
        "# Data preprocessing"
      ],
      "metadata": {
        "id": "Vsj7M06lf_S7"
      }
    },
    {
      "cell_type": "code",
      "source": [],
      "metadata": {
        "id": "xGlCsCKBf8UP"
      },
      "execution_count": null,
      "outputs": []
    }
  ]
}